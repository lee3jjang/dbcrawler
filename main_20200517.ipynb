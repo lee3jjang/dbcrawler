{
 "cells": [
  {
   "cell_type": "code",
   "execution_count": 1,
   "metadata": {},
   "outputs": [],
   "source": [
    "import time\n",
    "import pandas as pd\n",
    "from datetime import datetime"
   ]
  },
  {
   "cell_type": "code",
   "execution_count": null,
   "metadata": {},
   "outputs": [
    {
     "name": "stdout",
     "output_type": "stream",
     "text": [
      "[2020/05/17 15:52:12] 데이터 수집을 시작합니다. (code: FX_JPYKRW)\n"
     ]
    }
   ],
   "source": [
    "from crawler.ExchangeRateCrawler import ExchangeRateCrawler\n",
    "\n",
    "if __name__ == '__main__':\n",
    "    conn = sqlite3.connect('external_data.db')\n",
    "    erc = ExchangeRateCrawler(conn)\n",
    "    erc.set_code(['FX_JPYKRW'])\n",
    "    erc.run()"
   ]
  },
  {
   "cell_type": "code",
   "execution_count": 1,
   "metadata": {},
   "outputs": [
    {
     "name": "stdout",
     "output_type": "stream",
     "text": [
      "[2020/05/17 16:04:05] 데이터 수집을 시작합니다. (pno: 422개)\n",
      "[2020/05/17 16:07:12] 데이터 수집을 종료합니다. (pno: 422개, 수집시간: 186초, 데이터수: 40,903개)\n"
     ]
    }
   ],
   "source": [
    "import sqlite3\n",
    "from crawler.cetizen import PnoCrawler, UsedCarPriceCrawler\n",
    "\n",
    "if __name__ == '__main__':\n",
    "    conn = sqlite3.connect('external_data.db')\n",
    "    cur = conn.cursor()\n",
    "    cur.execute('SELECT PNO FROM CETIZEN_PNO')\n",
    "    pnos = list(map(lambda x: x[0], cur.fetchall()))\n",
    "    uspc = UsedCarPriceCrawler(conn)\n",
    "    uspc.set_pno(pnos)\n",
    "    uspc.run()"
   ]
  },
  {
   "cell_type": "code",
   "execution_count": 6,
   "metadata": {},
   "outputs": [
    {
     "data": {
      "text/plain": [
       "\u001b[1;31mSignature:\u001b[0m \u001b[0mpc\u001b[0m\u001b[1;33m.\u001b[0m\u001b[0mrun\u001b[0m\u001b[1;33m(\u001b[0m\u001b[0mself\u001b[0m\u001b[1;33m)\u001b[0m\u001b[1;33m\u001b[0m\u001b[1;33m\u001b[0m\u001b[0m\n",
       "\u001b[1;31mDocstring:\u001b[0m <no docstring>\n",
       "\u001b[1;31mFile:\u001b[0m      c:\\users\\administrator\\dev\\crawler\\cetizen.py\n",
       "\u001b[1;31mType:\u001b[0m      function\n"
      ]
     },
     "metadata": {},
     "output_type": "display_data"
    }
   ],
   "source": [
    "pc = PnoCrawler\n",
    "pc.run"
   ]
  }
 ],
 "metadata": {
  "kernelspec": {
   "display_name": "Python 3",
   "language": "python",
   "name": "python3"
  },
  "language_info": {
   "codemirror_mode": {
    "name": "ipython",
    "version": 3
   },
   "file_extension": ".py",
   "mimetype": "text/x-python",
   "name": "python",
   "nbconvert_exporter": "python",
   "pygments_lexer": "ipython3",
   "version": "3.7.6"
  }
 },
 "nbformat": 4,
 "nbformat_minor": 4
}
