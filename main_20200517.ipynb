{
 "cells": [
  {
   "cell_type": "code",
   "execution_count": null,
   "metadata": {},
   "outputs": [
    {
     "name": "stdout",
     "output_type": "stream",
     "text": [
      "[2020/05/17 14:23:13] 데이터 수집을 시작합니다. (code: 001450)\n"
     ]
    }
   ],
   "source": [
    "import sqlite3\n",
    "from crawler.StockPriceCrawler import StockPriceCrawler\n",
    "\n",
    "if __name__ == '__main__':\n",
    "    conn = sqlite3.connect('external_data.db')\n",
    "    spc = StockPriceCrawler(conn)\n",
    "    spc.set_code(['001450', '096530'])\n",
    "    spc.run()"
   ]
  }
 ],
 "metadata": {
  "kernelspec": {
   "display_name": "Python 3",
   "language": "python",
   "name": "python3"
  },
  "language_info": {
   "codemirror_mode": {
    "name": "ipython",
    "version": 3
   },
   "file_extension": ".py",
   "mimetype": "text/x-python",
   "name": "python",
   "nbconvert_exporter": "python",
   "pygments_lexer": "ipython3",
   "version": "3.7.6"
  }
 },
 "nbformat": 4,
 "nbformat_minor": 4
}
