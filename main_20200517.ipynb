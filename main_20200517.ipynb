{
 "cells": [
  {
   "cell_type": "code",
   "execution_count": 1,
   "metadata": {},
   "outputs": [],
   "source": [
    "import time\n",
    "import pandas as pd\n",
    "import numpy as np\n",
    "from datetime import datetime"
   ]
  },
  {
   "cell_type": "code",
   "execution_count": 2,
   "metadata": {},
   "outputs": [],
   "source": [
    "import sqlite3\n",
    "from crawler.cetizen import ExchangeRateCrawler, PnoCrawler, UsedPhonePriceCrawler, UsedCarPriceCrawler\n",
    "\n",
    "if __name__ == '__main__':\n",
    "    conn = sqlite3.connect('external_data.db')\n",
    "    erc = ExchangeRateCrawler(conn)\n",
    "    erc.set_code(['FX_JPYKRW'])\n",
    "    erc.run()\n",
    "    \n",
    "    conn = sqlite3.connect('external_data.db')\n",
    "    cur = conn.cursor()\n",
    "    cur.execute('SELECT PNO FROM CETIZEN_PNO')\n",
    "    pnos = list(map(lambda x: x[0], cur.fetchall()))\n",
    "    uppc = UsedPhonePriceCrawler(conn)\n",
    "    uppc.set_pno(pnos)\n",
    "    uppc.run()\n",
    "    \n",
    "    conn = sqlite3.connect('external_data.db')\n",
    "    ucpc = UsedCarPriceCrawler(conn)\n",
    "    ucpc.set_code(['benz', 'ev', 'bmw'])\n",
    "    ucpc.run()"
   ]
  }
 ],
 "metadata": {
  "kernelspec": {
   "display_name": "Python 3",
   "language": "python",
   "name": "python3"
  },
  "language_info": {
   "codemirror_mode": {
    "name": "ipython",
    "version": 3
   },
   "file_extension": ".py",
   "mimetype": "text/x-python",
   "name": "python",
   "nbconvert_exporter": "python",
   "pygments_lexer": "ipython3",
   "version": "3.7.6"
  }
 },
 "nbformat": 4,
 "nbformat_minor": 4
}
