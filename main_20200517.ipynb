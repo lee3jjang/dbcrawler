{
 "cells": [
  {
   "cell_type": "code",
   "execution_count": 2,
   "metadata": {},
   "outputs": [],
   "source": [
    "import time\n",
    "import pandas as pd\n",
    "from datetime import datetime\n",
    "import sqlite3"
   ]
  },
  {
   "cell_type": "code",
   "execution_count": 2,
   "metadata": {},
   "outputs": [
    {
     "name": "stdout",
     "output_type": "stream",
     "text": [
      "[2020/05/17 14:49:40] 데이터 수집을 시작합니다. (code: FX_JPYKRW)\n",
      "[2020/05/17 14:49:58] 데이터 수집을 종료합니다. (code: FX_JPYKRW, 수집시간: 17초, 데이터수: 3,999개)\n"
     ]
    }
   ],
   "source": [
    "from crawler.ExchangeRateCrawler import ExchangeRateCrawler\n",
    "\n",
    "if __name__ == '__main__':\n",
    "    conn = sqlite3.connect('external_data.db')\n",
    "    erc = ExchangeRateCrawler(conn)\n",
    "    erc.set_code(['FX_JPYKRW'])\n",
    "    erc.run()"
   ]
  },
  {
   "cell_type": "code",
   "execution_count": 5,
   "metadata": {},
   "outputs": [],
   "source": [
    "from crawler.cetizen import PnoCrawler\n",
    "\n",
    "if __name__ == '__main__':\n",
    "    conn = sqlite3.connect('external_data.db')\n",
    "    cetizen_pc = PnoCrawler(conn)\n",
    "    cetizen_pc.run()"
   ]
  }
 ],
 "metadata": {
  "kernelspec": {
   "display_name": "Python 3",
   "language": "python",
   "name": "python3"
  },
  "language_info": {
   "codemirror_mode": {
    "name": "ipython",
    "version": 3
   },
   "file_extension": ".py",
   "mimetype": "text/x-python",
   "name": "python",
   "nbconvert_exporter": "python",
   "pygments_lexer": "ipython3",
   "version": "3.7.6"
  }
 },
 "nbformat": 4,
 "nbformat_minor": 4
}
